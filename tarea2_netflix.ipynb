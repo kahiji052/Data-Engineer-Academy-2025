{
 "cells": [
  {
   "cell_type": "code",
   "execution_count": 1,
   "id": "27d3abcd-3c53-481d-8b2c-550a5c5c526a",
   "metadata": {},
   "outputs": [],
   "source": [
    "# Importación de librerías necesarias\n",
    "from pyspark.sql import SparkSession\n",
    "from pyspark.sql.functions import regexp_extract\n",
    "from pyspark.sql.functions import corr, col, count, when"
   ]
  },
  {
   "cell_type": "code",
   "execution_count": 2,
   "id": "add074eb-cb83-48fb-8379-5c0e79d0c68e",
   "metadata": {},
   "outputs": [],
   "source": [
    "# Creación de la sesión de Spark\n",
    "spark = SparkSession.builder \\\n",
    "    .appName(\"Análsis de Títulos en Netflix\") \\\n",
    "    .master(\"local[*]\") \\\n",
    "    .config(\"spark.executor.memory\", \"4g\") \\\n",
    "    .config(\"spark.driver.memory\", \"2g\") \\\n",
    "    .config(\"spark.executor.cores\", \"2\") \\\n",
    "    .config(\"spark.serializer\", \"org.apache.spark.serializer.KryoSerializer\") \\\n",
    "    .config(\"spark.sql.files.maxPartitionBytes\", \"128MB\") \\\n",
    "    .config(\"spark.sql.shuffle.partitions\", \"200\") \\\n",
    "    .config(\"spark.sql.execution.arrow.enabled\", \"true\") \\\n",
    "    .getOrCreate()"
   ]
  },
  {
   "cell_type": "code",
   "execution_count": 3,
   "id": "6694173d-1983-45c3-81d9-b84d426fa459",
   "metadata": {},
   "outputs": [],
   "source": [
    "# Carga del archivo CSV a Spark\n",
    "file_path = \"netflix_titles.csv\"\n",
    "df = spark.read.csv(file_path, header=True, inferSchema=True)"
   ]
  },
  {
   "cell_type": "code",
   "execution_count": 4,
   "id": "c9a7eba0-91bc-4737-ac0d-ac3d962c4d42",
   "metadata": {},
   "outputs": [
    {
     "name": "stdout",
     "output_type": "stream",
     "text": [
      "+-------+-------+--------------------+---------------+--------------------+-------------+------------------+------------+------+---------+--------------------+--------------------+\n",
      "|show_id|   type|               title|       director|                cast|      country|        date_added|release_year|rating| duration|           listed_in|         description|\n",
      "+-------+-------+--------------------+---------------+--------------------+-------------+------------------+------------+------+---------+--------------------+--------------------+\n",
      "|     s1|  Movie|Dick Johnson Is Dead|Kirsten Johnson|                NULL|United States|September 25, 2021|        2020| PG-13|   90 min|       Documentaries|As her father nea...|\n",
      "|     s2|TV Show|       Blood & Water|           NULL|Ama Qamata, Khosi...| South Africa|September 24, 2021|        2021| TV-MA|2 Seasons|International TV ...|After crossing pa...|\n",
      "|     s3|TV Show|           Ganglands|Julien Leclercq|Sami Bouajila, Tr...|         NULL|September 24, 2021|        2021| TV-MA| 1 Season|Crime TV Shows, I...|To protect his fa...|\n",
      "|     s4|TV Show|Jailbirds New Orl...|           NULL|                NULL|         NULL|September 24, 2021|        2021| TV-MA| 1 Season|Docuseries, Reali...|Feuds, flirtation...|\n",
      "|     s5|TV Show|        Kota Factory|           NULL|Mayur More, Jiten...|        India|September 24, 2021|        2021| TV-MA|2 Seasons|International TV ...|In a city of coac...|\n",
      "+-------+-------+--------------------+---------------+--------------------+-------------+------------------+------------+------+---------+--------------------+--------------------+\n",
      "only showing top 5 rows\n",
      "\n"
     ]
    }
   ],
   "source": [
    "# Mostrar las primeras filas\n",
    "df.show(5)"
   ]
  },
  {
   "cell_type": "code",
   "execution_count": 5,
   "id": "caf8cb3f-255e-4be9-898d-4dc300cd3bb1",
   "metadata": {},
   "outputs": [
    {
     "name": "stdout",
     "output_type": "stream",
     "text": [
      "root\n",
      " |-- show_id: string (nullable = true)\n",
      " |-- type: string (nullable = true)\n",
      " |-- title: string (nullable = true)\n",
      " |-- director: string (nullable = true)\n",
      " |-- cast: string (nullable = true)\n",
      " |-- country: string (nullable = true)\n",
      " |-- date_added: string (nullable = true)\n",
      " |-- release_year: string (nullable = true)\n",
      " |-- rating: string (nullable = true)\n",
      " |-- duration: string (nullable = true)\n",
      " |-- listed_in: string (nullable = true)\n",
      " |-- description: string (nullable = true)\n",
      "\n"
     ]
    }
   ],
   "source": [
    "# Mostrar el esquema del DataFrame\n",
    "df.printSchema()"
   ]
  },
  {
   "cell_type": "code",
   "execution_count": 6,
   "id": "eba225c5-7923-44e8-80db-f4fe68865274",
   "metadata": {},
   "outputs": [
    {
     "name": "stdout",
     "output_type": "stream",
     "text": [
      "+-------------+\n",
      "|         type|\n",
      "+-------------+\n",
      "|      TV Show|\n",
      "|        Movie|\n",
      "|William Wyler|\n",
      "|         NULL|\n",
      "+-------------+\n",
      "\n"
     ]
    }
   ],
   "source": [
    "# Mostrar los valores que exiten en type\n",
    "df.select(\"type\").distinct().show()"
   ]
  },
  {
   "cell_type": "code",
   "execution_count": 7,
   "id": "56d1d275-d114-4992-bd20-bc4b416a78fd",
   "metadata": {},
   "outputs": [
    {
     "name": "stdout",
     "output_type": "stream",
     "text": [
      "+-------------+-----+\n",
      "|         type|count|\n",
      "+-------------+-----+\n",
      "|         NULL|    1|\n",
      "|      TV Show| 2676|\n",
      "|        Movie| 6131|\n",
      "|William Wyler|    1|\n",
      "+-------------+-----+\n",
      "\n"
     ]
    }
   ],
   "source": [
    "# Contar la cantidad de registros para cada valor\n",
    "df.groupBy(\"type\").count().show()"
   ]
  },
  {
   "cell_type": "code",
   "execution_count": 8,
   "id": "1128e8a4-61bf-48a0-a7ac-f7fb2d98890b",
   "metadata": {},
   "outputs": [
    {
     "name": "stdout",
     "output_type": "stream",
     "text": [
      "+-------+-----+--------------------+--------------------+--------------------+--------------------+------------------+------------+------+--------+--------------------+--------------------+\n",
      "|show_id| type|               title|            director|                cast|             country|        date_added|release_year|rating|duration|           listed_in|         description|\n",
      "+-------+-----+--------------------+--------------------+--------------------+--------------------+------------------+------------+------+--------+--------------------+--------------------+\n",
      "|     s1|Movie|Dick Johnson Is Dead|     Kirsten Johnson|                NULL|       United States|September 25, 2021|        2020| PG-13|  90 min|       Documentaries|As her father nea...|\n",
      "|     s7|Movie|My Little Pony: A...|Robert Cullen, Jo...|Vanessa Hudgens, ...|                NULL|September 24, 2021|        2021|    PG|  91 min|Children & Family...|Equestria's divid...|\n",
      "|     s8|Movie|             Sankofa|        Haile Gerima|Kofi Ghanaba, Oya...|United States, Gh...|September 24, 2021|        1993| TV-MA| 125 min|Dramas, Independe...|On a photo shoot ...|\n",
      "|    s10|Movie|        The Starling|      Theodore Melfi|Melissa McCarthy,...|       United States|September 24, 2021|        2021| PG-13| 104 min|    Comedies, Dramas|A woman adjusting...|\n",
      "|    s13|Movie|        Je Suis Karl| Christian Schwochow|Luna Wedler, Jann...|Germany, Czech Re...|September 23, 2021|        2021| TV-MA| 127 min|Dramas, Internati...|After most of her...|\n",
      "|    s14|Movie|Confessions of an...|       Bruno Garotti|Klara Castanho, L...|                NULL|September 22, 2021|        2021| TV-PG|  91 min|Children & Family...|When the clever b...|\n",
      "|    s17|Movie|Europe's Most Dan...|Pedro de Echave G...|                NULL|                NULL|September 22, 2021|        2020| TV-MA|  67 min|Documentaries, In...|Declassified docu...|\n",
      "|    s19|Movie|           Intrusion|          Adam Salky|Freida Pinto, Log...|                NULL|September 22, 2021|        2021| TV-14|  94 min|           Thrillers|After a deadly ho...|\n",
      "|    s23|Movie|     Avvai Shanmughi|      K.S. Ravikumar|Kamal Hassan, Mee...|                NULL|September 21, 2021|        1996| TV-PG| 161 min|Comedies, Interna...|Newly divorced an...|\n",
      "|    s24|Movie|Go! Go! Cory Cars...|Alex Woo, Stanley...|Maisie Benson, Pa...|                NULL|September 21, 2021|        2021|  TV-Y|  61 min|Children & Family...|From arcade games...|\n",
      "+-------+-----+--------------------+--------------------+--------------------+--------------------+------------------+------------+------+--------+--------------------+--------------------+\n",
      "only showing top 10 rows\n",
      "\n"
     ]
    }
   ],
   "source": [
    "# Filtrar por tipo de contenido \"Movie\"\n",
    "movies_df = df.filter(df[\"type\"] == \"Movie\")\n",
    "movies_df.show(10)"
   ]
  },
  {
   "cell_type": "code",
   "execution_count": 9,
   "id": "59a9642f-462c-4e22-b3fe-81e759955bfb",
   "metadata": {},
   "outputs": [
    {
     "name": "stdout",
     "output_type": "stream",
     "text": [
      "+--------------------+-----+\n",
      "|            director|count|\n",
      "+--------------------+-----+\n",
      "|                NULL| 2636|\n",
      "|       Rajiv Chilaka|   19|\n",
      "|Raúl Campos, Jan ...|   18|\n",
      "|        Marcus Raboy|   16|\n",
      "|         Suhas Kadav|   16|\n",
      "|           Jay Karas|   14|\n",
      "| Cathy Garcia-Molina|   13|\n",
      "|     Youssef Chahine|   12|\n",
      "|     Martin Scorsese|   12|\n",
      "|         Jay Chapman|   12|\n",
      "+--------------------+-----+\n",
      "only showing top 10 rows\n",
      "\n"
     ]
    }
   ],
   "source": [
    "# Contar la cantidad de producciones por director\n",
    "df.groupBy(\"director\").count().orderBy(\"count\", ascending=False).show(10)"
   ]
  },
  {
   "cell_type": "code",
   "execution_count": 10,
   "id": "133e7a51-bb74-4d8b-abb2-59468973d761",
   "metadata": {},
   "outputs": [
    {
     "name": "stdout",
     "output_type": "stream",
     "text": [
      "+-------+-------+--------------------+--------------------+--------------------+-------+------------------+------------+------+---------+--------------------+--------------------+\n",
      "|show_id|   type|               title|            director|                cast|country|        date_added|release_year|rating| duration|           listed_in|         description|\n",
      "+-------+-------+--------------------+--------------------+--------------------+-------+------------------+------------+------+---------+--------------------+--------------------+\n",
      "|    s18|TV Show|     Falsa identidad|                NULL|Luis Ernesto Fran...| Mexico|September 22, 2021|        2020| TV-MA|2 Seasons|Crime TV Shows, S...|Strangers Diego a...|\n",
      "|   s283|  Movie|La diosa del asfalto|    Julián Hernández|Ximena Romo, Mabe...| Mexico|   August 11, 2021|        2020| TV-MA|  127 min|Dramas, Independe...|A woman from a to...|\n",
      "|   s312|TV Show|           Control Z|                NULL|Ana Valeria Becer...| Mexico|    August 4, 2021|        2021| TV-MA|2 Seasons|International TV ...|When a hacker beg...|\n",
      "|   s626|TV Show|              Somos.|                NULL|Mercedes Hernánde...| Mexico|     June 30, 2021|        2021| TV-MA| 1 Season|Crime TV Shows, I...|The lives of the ...|\n",
      "|   s767|  Movie|Alan Saldaña: Loc...|           Alex Díaz|        Alan Saldaña| Mexico|      June 3, 2021|        2021| TV-MA|   49 min|     Stand-Up Comedy|Mexican comedian ...|\n",
      "|   s870|TV Show|    Who Killed Sara?|                NULL|Manolo Cardona, G...| Mexico|      May 19, 2021|        2021| TV-MA|2 Seasons|Crime TV Shows, I...|Hell-bent on exac...|\n",
      "|  s1003|  Movie|        Tell Me When|      Gerardo Gatica|Jesús Zavala, Xim...| Mexico|    April 21, 2021|        2021| TV-MA|   97 min|Comedies, Interna...|Workaholic Will p...|\n",
      "|  s1013|TV Show|Luis Miguel - The...|                NULL|Diego Boneta, Jua...| Mexico|    April 19, 2021|        2021| TV-MA|2 Seasons|International TV ...|This series drama...|\n",
      "|  s1320|  Movie|      Xico's Journey|Eric D. Cabello Díaz|Verónica Alva, Pa...| Mexico| February 12, 2021|        2021| TV-Y7|   87 min|Children & Family...|A girl, a dog and...|\n",
      "|  s1322|TV Show|            El Chema|                NULL|Mauricio Ochmann,...| Mexico| February 11, 2021|        2016| TV-MA| 1 Season|Crime TV Shows, S...|Follow one man's ...|\n",
      "+-------+-------+--------------------+--------------------+--------------------+-------+------------------+------------+------+---------+--------------------+--------------------+\n",
      "only showing top 10 rows\n",
      "\n"
     ]
    }
   ],
   "source": [
    "# Filtrar por país\n",
    "mx_content = df.filter(df[\"country\"] == \"Mexico\")\n",
    "mx_content.show(10)"
   ]
  },
  {
   "cell_type": "code",
   "execution_count": 11,
   "id": "ccecf236-a3b3-4651-8cac-348d986ca695",
   "metadata": {},
   "outputs": [
    {
     "name": "stdout",
     "output_type": "stream",
     "text": [
      "+--------------------+\n",
      "|            director|\n",
      "+--------------------+\n",
      "|           Eric Meza|\n",
      "|         Tommy Chong|\n",
      "|          John Wells|\n",
      "|         Erol Özlevi|\n",
      "|  Alejandro Hartmann|\n",
      "|   Jennifer Westcott|\n",
      "|       Neeraj Pandey|\n",
      "|   Wash Westmoreland|\n",
      "|       Patricia Font|\n",
      "|          Bobby Roth|\n",
      "|      Aleksey German|\n",
      "| Rhiannon Bannenberg|\n",
      "|      Elizabeth Wood|\n",
      "|          Manish Jha|\n",
      "|        April Mullen|\n",
      "|Harry Elfont, Deb...|\n",
      "|   Abdul Aziz Hashad|\n",
      "|          Will Gluck|\n",
      "|Jesús Magaña Vázquez|\n",
      "|      Gail Willumsen|\n",
      "+--------------------+\n",
      "only showing top 20 rows\n",
      "\n"
     ]
    }
   ],
   "source": [
    "# Obtener lista de directores\n",
    "df.select(\"director\").distinct().show()"
   ]
  },
  {
   "cell_type": "code",
   "execution_count": 12,
   "id": "d8e9489c-1c0d-496f-874c-32e727bd667d",
   "metadata": {},
   "outputs": [
    {
     "name": "stdout",
     "output_type": "stream",
     "text": [
      "+--------------+\n",
      "|null_directors|\n",
      "+--------------+\n",
      "|          2636|\n",
      "+--------------+\n",
      "\n"
     ]
    }
   ],
   "source": [
    "# Contar valores nulos en la columna director\n",
    "df.select(count(when(col(\"director\").isNull(), 1)).alias(\"null_directors\")).show()"
   ]
  },
  {
   "cell_type": "code",
   "execution_count": 13,
   "id": "d89a8a1f-5582-421b-93ba-c7c49d4d302c",
   "metadata": {},
   "outputs": [
    {
     "name": "stdout",
     "output_type": "stream",
     "text": [
      "+-----------------+\n",
      "|         duration|\n",
      "+-----------------+\n",
      "|          100 min|\n",
      "|          153 min|\n",
      "|           71 min|\n",
      "|           56 min|\n",
      "| Donnell Rawlings|\n",
      "|           13 min|\n",
      "|          119 min|\n",
      "|           33 min|\n",
      "|          165 min|\n",
      "|       10 Seasons|\n",
      "|           12 min|\n",
      "|          204 min|\n",
      "|          142 min|\n",
      "|          173 min|\n",
      "|           27 min|\n",
      "|          157 min|\n",
      "|           30 min|\n",
      "|           39 min|\n",
      "|        8 Seasons|\n",
      "|           82 min|\n",
      "+-----------------+\n",
      "only showing top 20 rows\n",
      "\n"
     ]
    }
   ],
   "source": [
    "df.select(\"duration\").distinct().show()"
   ]
  },
  {
   "cell_type": "code",
   "execution_count": 14,
   "id": "b8571c3d-7329-4600-8238-5ac81321bb7a",
   "metadata": {},
   "outputs": [
    {
     "name": "stdout",
     "output_type": "stream",
     "text": [
      "+--------------------+-----------+\n",
      "|               title|num_seasons|\n",
      "+--------------------+-----------+\n",
      "|      Grey's Anatomy|         17|\n",
      "|        Supernatural|         15|\n",
      "|                NCIS|         15|\n",
      "|       The Challenge|         14|\n",
      "|           Heartland|         13|\n",
      "|COMEDIANS of the ...|         13|\n",
      "|        Red vs. Blue|         13|\n",
      "|   Trailer Park Boys|         12|\n",
      "|      Criminal Minds|         12|\n",
      "|              Cheers|         11|\n",
      "|             Frasier|         11|\n",
      "|       Stargate SG-1|         10|\n",
      "|    The Walking Dead|         10|\n",
      "|LEGO Ninjago: Mas...|         10|\n",
      "|    Shameless (U.S.)|         10|\n",
      "|Danger Mouse: Cla...|         10|\n",
      "|          Dad's Army|         10|\n",
      "|             Friends|         10|\n",
      "|    Call the Midwife|          9|\n",
      "|American Horror S...|          9|\n",
      "+--------------------+-----------+\n",
      "only showing top 20 rows\n",
      "\n"
     ]
    }
   ],
   "source": [
    "# Ordenar las series de mayor a menor temporadas\n",
    "series_df = df.filter(df[\"type\"] == \"TV Show\")\n",
    "series_df = series_df.withColumn(\"num_seasons\", regexp_extract(col(\"duration\"), r'(\\d+)', 1).cast(\"int\"))\n",
    "series_df.orderBy(col(\"num_seasons\").desc()).select(\"title\", \"num_seasons\").show()"
   ]
  },
  {
   "cell_type": "code",
   "execution_count": 15,
   "id": "40c400dd-a1e2-4abf-9647-38f1dd83f48b",
   "metadata": {},
   "outputs": [
    {
     "name": "stdout",
     "output_type": "stream",
     "text": [
      "+--------------------+--------+\n",
      "|               title|duration|\n",
      "+--------------------+--------+\n",
      "|     Vampire Academy| 104 min|\n",
      "|      Bigfoot Family|  88 min|\n",
      "|           Homefront| 100 min|\n",
      "|            Wish You| 102 min|\n",
      "|Just Another Chri...| 101 min|\n",
      "|StarBeam: Hallowe...|  33 min|\n",
      "|High & Low The Re...| 111 min|\n",
      "|            Bheeshma| 138 min|\n",
      "|         Moms at War|  92 min|\n",
      "|        Jai Mummy Di| 101 min|\n",
      "| True: Winter Wishes|  46 min|\n",
      "|Master Z: The Ip ...| 108 min|\n",
      "|Mo Gilligan: Mome...|  64 min|\n",
      "|              Patria|  90 min|\n",
      "|Edmilson Filho: N...|  80 min|\n",
      "|  The Debt Collector|  96 min|\n",
      "|     The Bittersweet|  98 min|\n",
      "|                1922| 103 min|\n",
      "|Tini: The New Lif...|  99 min|\n",
      "|100 Years: One Wo...|  75 min|\n",
      "+--------------------+--------+\n",
      "only showing top 20 rows\n",
      "\n"
     ]
    }
   ],
   "source": [
    "# Mostrar la duración de películas\n",
    "movies_df.orderBy(col(\"duration\")).select(\"title\", \"duration\").distinct().show()"
   ]
  },
  {
   "cell_type": "code",
   "execution_count": 16,
   "id": "59496dcd-b6a5-4dc9-9c2e-8501d7b5d7a1",
   "metadata": {},
   "outputs": [
    {
     "name": "stdout",
     "output_type": "stream",
     "text": [
      "+----------------------+-----+\n",
      "|director              |count|\n",
      "+----------------------+-----+\n",
      "|Rajiv Chilaka         |19   |\n",
      "|Raúl Campos, Jan Suter|18   |\n",
      "|Marcus Raboy          |16   |\n",
      "|Suhas Kadav           |16   |\n",
      "|Jay Karas             |14   |\n",
      "|Cathy Garcia-Molina   |13   |\n",
      "|Youssef Chahine       |12   |\n",
      "|Martin Scorsese       |12   |\n",
      "|Jay Chapman           |12   |\n",
      "|Steven Spielberg      |11   |\n",
      "+----------------------+-----+\n",
      "only showing top 10 rows\n",
      "\n"
     ]
    }
   ],
   "source": [
    "# Filtrar directores quitando los valores nulos\n",
    "df.filter(col(\"director\").isNotNull()) \\\n",
    "  .groupBy(\"director\") \\\n",
    "  .count() \\\n",
    "  .orderBy(col(\"count\").desc()) \\\n",
    "  .select(\"director\", \"count\") \\\n",
    "  .show(10, truncate=False)"
   ]
  }
 ],
 "metadata": {
  "kernelspec": {
   "display_name": "Python 3 (ipykernel)",
   "language": "python",
   "name": "python3"
  },
  "language_info": {
   "codemirror_mode": {
    "name": "ipython",
    "version": 3
   },
   "file_extension": ".py",
   "mimetype": "text/x-python",
   "name": "python",
   "nbconvert_exporter": "python",
   "pygments_lexer": "ipython3",
   "version": "3.11.6"
  }
 },
 "nbformat": 4,
 "nbformat_minor": 5
}
