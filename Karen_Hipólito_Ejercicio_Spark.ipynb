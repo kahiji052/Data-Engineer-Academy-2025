{
 "cells": [
  {
   "cell_type": "markdown",
   "id": "c78623bf-43b9-41e0-88b7-3f2567421aaf",
   "metadata": {},
   "source": [
    "# Ejercicio (pruebas con PySpark)"
   ]
  },
  {
   "cell_type": "code",
   "execution_count": 1,
   "id": "00bba358-adeb-4e4e-8ce6-ebc010215385",
   "metadata": {},
   "outputs": [],
   "source": [
    "from pyspark.sql import SparkSession\n",
    "from pyspark.sql import Row\n",
    "from pyspark.sql.functions import explode, split, col, regexp_replace, size, length, lower\n",
    "import requests"
   ]
  },
  {
   "cell_type": "code",
   "execution_count": 2,
   "id": "e29aa9bc-ebc3-4cbd-85b4-e42cb81aa567",
   "metadata": {},
   "outputs": [],
   "source": [
    "spark = SparkSession.builder.appName(\"Analaislibro\").getOrCreate()\n",
    "url = \"https://www.gutenberg.org/cache/epub/28885/pg28885.txt\""
   ]
  },
  {
   "cell_type": "code",
   "execution_count": 3,
   "id": "7781f16a-2e3a-49cd-a875-acf236b3a3ba",
   "metadata": {},
   "outputs": [],
   "source": [
    "response =requests.get(url)\n",
    "libro_texto = response.text"
   ]
  },
  {
   "cell_type": "code",
   "execution_count": 4,
   "id": "cc24aa5d-0652-457d-a84e-35455b43dff1",
   "metadata": {},
   "outputs": [],
   "source": [
    "with open(\"libro.txt\", \"w\", encoding=\"utf-8\") as file:\n",
    "    file.write(libro_texto)"
   ]
  },
  {
   "cell_type": "code",
   "execution_count": 5,
   "id": "4255019d-9b25-421a-b78b-727b3e74c302",
   "metadata": {},
   "outputs": [],
   "source": [
    "rdd = spark.sparkContext.textFile(\"libro.txt\")\n",
    "rdd = rdd.filter(lambda line: line.strip() !=\"\")"
   ]
  },
  {
   "cell_type": "code",
   "execution_count": 6,
   "id": "8063396b-450a-48b7-a179-2c8873e3c796",
   "metadata": {},
   "outputs": [
    {
     "name": "stdout",
     "output_type": "stream",
     "text": [
      "+--------------------+\n",
      "|             parrafo|\n",
      "+--------------------+\n",
      "|The Project Guten...|\n",
      "|This ebook is for...|\n",
      "|most other parts ...|\n",
      "|whatsoever. You m...|\n",
      "|of the Project Gu...|\n",
      "|at www.gutenberg....|\n",
      "|you will have to ...|\n",
      "|before using this...|\n",
      "|Title: Alice's Ad...|\n",
      "|Author: Lewis Car...|\n",
      "|Contributor: Aust...|\n",
      "|Illustrator: Arth...|\n",
      "|Release date: May...|\n",
      "|                M...|\n",
      "|   Language: English|\n",
      "|Credits: Produced...|\n",
      "|        Proofread...|\n",
      "|        produced ...|\n",
      "|        Universit...|\n",
      "|*** START OF THE ...|\n",
      "+--------------------+\n",
      "only showing top 20 rows\n",
      "\n"
     ]
    }
   ],
   "source": [
    "capitulos = rdd.filter(lambda line: line.strip().startswith(\"CHAPTER\")).collect()\n",
    "parrafos = rdd.flatMap(lambda line: line.split(\"\\n\\n\"))\n",
    "df_parrafos = parrafos.map(lambda p: (p,)).toDF([\"parrafo\"])\n",
    "df_parrafos.show()"
   ]
  },
  {
   "cell_type": "code",
   "execution_count": 7,
   "id": "43b12eff-0f73-4add-a2bc-67afec432194",
   "metadata": {},
   "outputs": [],
   "source": [
    "df_parrafos = df_parrafos.withColumn(\"parrafo_limpio\", regexp_replace(col(\"parrafo\"), \"[^a-zA-Z\\s]\", \"\").alias(\"parrafo_limpio\"))\n",
    "df_parrafos = df_parrafos.withColumn(\"parrafo_limpio\", regexp_replace(col(\"parrafo_limpio\"), \"\\s+\", \" \").alias(\"parrafo_limpio\"))"
   ]
  },
  {
   "cell_type": "code",
   "execution_count": 8,
   "id": "15f14460-9b21-4317-96b2-bb6ac4d87bd0",
   "metadata": {},
   "outputs": [],
   "source": [
    "df_parrafos = df_parrafos.withColumn(\"oraciones\", split(col(\"parrafo_limpio\"), \"\\.\"))\n",
    "df_parrafos = df_parrafos.withColumn(\"num_oraciones\", size(col(\"oraciones\")))\n",
    "df_parrafos = df_parrafos.withColumn(\"palabras\", split(col(\"parrafo_limpio\"), \" \"))\n",
    "df_parrafos = df_parrafos.withColumn(\"num_palabras\", size(col(\"palabras\")))"
   ]
  },
  {
   "cell_type": "code",
   "execution_count": 9,
   "id": "b8550e98-04d5-4bc4-bf10-7741dbdd0941",
   "metadata": {},
   "outputs": [
    {
     "name": "stdout",
     "output_type": "stream",
     "text": [
      "+--------------------+--------------------+--------------------+-------------+--------------------+------------+\n",
      "|             parrafo|      parrafo_limpio|           oraciones|num_oraciones|            palabras|num_palabras|\n",
      "+--------------------+--------------------+--------------------+-------------+--------------------+------------+\n",
      "|The Project Guten...|The Project Guten...|[The Project Gute...|            1|[The, Project, Gu...|           9|\n",
      "|This ebook is for...|This ebook is for...|[This ebook is fo...|            1|[This, ebook, is,...|          14|\n",
      "|most other parts ...|most other parts ...|[most other parts...|            1|[most, other, par...|          14|\n",
      "|whatsoever. You m...|whatsoever You ma...|[whatsoever You m...|            1|[whatsoever, You,...|          14|\n",
      "|of the Project Gu...|of the Project Gu...|[of the Project G...|            1|[of, the, Project...|          11|\n",
      "|at www.gutenberg....|at wwwgutenbergor...|[at wwwgutenbergo...|            1|[at, wwwgutenberg...|          11|\n",
      "|you will have to ...|you will have to ...|[you will have to...|            1|[you, will, have,...|          14|\n",
      "|before using this...|before using this...|[before using thi...|            1|[before, using, t...|           4|\n",
      "|Title: Alice's Ad...|Title Alices Adve...|[Title Alices Adv...|            1|[Title, Alices, A...|           5|\n",
      "|Author: Lewis Car...|Author Lewis Carroll|[Author Lewis Car...|            1|[Author, Lewis, C...|           3|\n",
      "|Contributor: Aust...|Contributor Austi...|[Contributor Aust...|            1|[Contributor, Aus...|           3|\n",
      "|Illustrator: Arth...|Illustrator Arthu...|[Illustrator Arth...|            1|[Illustrator, Art...|           3|\n",
      "|Release date: May...|Release date May ...|[Release date May...|            1|[Release, date, M...|           5|\n",
      "|                M...| Most recently up...|[ Most recently u...|            1|[, Most, recently...|           6|\n",
      "|   Language: English|    Language English|  [Language English]|            1| [Language, English]|           2|\n",
      "|Credits: Produced...|Credits Produced ...|[Credits Produced...|            1|[Credits, Produce...|          10|\n",
      "|        Proofread...| Proofreading Tea...|[ Proofreading Te...|            1|[, Proofreading, ...|           8|\n",
      "|        produced ...| produced from im...|[ produced from i...|            1|[, produced, from...|           9|\n",
      "|        Universit...| University of Fl...|[ University of F...|            1|[, University, of...|           6|\n",
      "|*** START OF THE ...| START OF THE PRO...|[ START OF THE PR...|            1|[, START, OF, THE...|          12|\n",
      "+--------------------+--------------------+--------------------+-------------+--------------------+------------+\n",
      "only showing top 20 rows\n",
      "\n"
     ]
    }
   ],
   "source": [
    "df_parrafos.show()"
   ]
  },
  {
   "cell_type": "markdown",
   "id": "c99a4c5b-63e5-41e4-b49f-4d74328ef8fc",
   "metadata": {},
   "source": [
    "# Ejercicio (probar con nuevo libro)"
   ]
  },
  {
   "cell_type": "markdown",
   "id": "bdc46fee-b7ec-4e13-83b2-bd9746d232e7",
   "metadata": {},
   "source": [
    "## Descarga del texto del libro desde Project Gutenberg"
   ]
  },
  {
   "cell_type": "code",
   "execution_count": 10,
   "id": "f418706b-1971-4f90-8cb3-e42af3a477fb",
   "metadata": {},
   "outputs": [],
   "source": [
    "url = \"https://www.gutenberg.org/cache/epub/4280/pg4280.txt\"\n",
    "response = requests.get(url)\n",
    "libro_texto = response.text"
   ]
  },
  {
   "cell_type": "code",
   "execution_count": 11,
   "id": "85be2259-bf45-41ff-9928-7513c70034b9",
   "metadata": {},
   "outputs": [],
   "source": [
    "# Guarda el contenido del libro en un archivo local\n",
    "with open(\"libro.txt\", \"w\", encoding=\"utf-8\") as file:\n",
    "    file.write(libro_texto)"
   ]
  },
  {
   "cell_type": "code",
   "execution_count": 12,
   "id": "63c19734-e724-4d10-b538-b0bcd63ad598",
   "metadata": {},
   "outputs": [],
   "source": [
    "# Lectura del archivo con Spark\n",
    "rdd = spark.sparkContext.textFile(\"libro.txt\")"
   ]
  },
  {
   "cell_type": "code",
   "execution_count": 13,
   "id": "caa91651-69a1-4853-a334-751f4058b0ab",
   "metadata": {},
   "outputs": [],
   "source": [
    "# Filtra líneas vacías\n",
    "rdd = rdd.filter(lambda line: line.strip() != \"\")"
   ]
  },
  {
   "cell_type": "code",
   "execution_count": 14,
   "id": "581047b5-8233-4260-b650-2e66636e3f7b",
   "metadata": {},
   "outputs": [],
   "source": [
    "# Detectar secciones en mayúsculas o con encabezados \"CHAPTER\"\n",
    "capitulos = rdd.filter(lambda line: line.strip().upper().startswith(\"CHAPTER\") or line.isupper()).collect()"
   ]
  },
  {
   "cell_type": "code",
   "execution_count": 15,
   "id": "7f7f9892-3684-4b16-abfc-1b73f87261ff",
   "metadata": {},
   "outputs": [],
   "source": [
    "# Dividir el texto en párrafos\n",
    "parrafos = rdd.flatMap(lambda line: line.split(\"\\n\\n\"))"
   ]
  },
  {
   "cell_type": "code",
   "execution_count": 16,
   "id": "b26565b1-67c2-4344-81fc-56e4a1637d47",
   "metadata": {},
   "outputs": [
    {
     "name": "stdout",
     "output_type": "stream",
     "text": [
      "+--------------------+\n",
      "|             parrafo|\n",
      "+--------------------+\n",
      "|The Project Guten...|\n",
      "|This ebook is for...|\n",
      "|most other parts ...|\n",
      "|whatsoever. You m...|\n",
      "|of the Project Gu...|\n",
      "|at www.gutenberg....|\n",
      "|you will have to ...|\n",
      "|before using this...|\n",
      "|Title: The Critiq...|\n",
      "|Author: Immanuel ...|\n",
      "|Translator: J. M....|\n",
      "|Release date: Jul...|\n",
      "|                M...|\n",
      "|   Language: English|\n",
      "|Credits: Charles ...|\n",
      "|*** START OF THE ...|\n",
      "|      [Illustration]|\n",
      "|The Critique of P...|\n",
      "|    By Immanuel Kant|\n",
      "|Translated by J. ...|\n",
      "+--------------------+\n",
      "only showing top 20 rows\n",
      "\n"
     ]
    }
   ],
   "source": [
    "# Crear DataFrame de párrafos\n",
    "parrafos_rdd = parrafos.map(lambda p: Row(parrafo=p))\n",
    "df_parrafos = spark.createDataFrame(parrafos_rdd)\n",
    "df_parrafos.show()"
   ]
  },
  {
   "cell_type": "code",
   "execution_count": 17,
   "id": "a6f0153c-1d90-495e-ad7f-675ef7386dfb",
   "metadata": {},
   "outputs": [],
   "source": [
    "# Eliminar caracteres no alfabéticos\n",
    "df_parrafos = df_parrafos.withColumn(\n",
    "    \"parrafo_limpio\", regexp_replace(col(\"parrafo\"), \"[^a-zA-Z\\s]\", \"\")\n",
    ")"
   ]
  },
  {
   "cell_type": "code",
   "execution_count": 18,
   "id": "90daacc5-8be2-4c27-8ad0-e32cf5691ac4",
   "metadata": {},
   "outputs": [],
   "source": [
    "# Normalizar espacios en blanco\n",
    "df_parrafos = df_parrafos.withColumn(\n",
    "    \"parrafo_limpio\", regexp_replace(col(\"parrafo_limpio\"), \"\\s+\", \" \")\n",
    ")"
   ]
  },
  {
   "cell_type": "code",
   "execution_count": 19,
   "id": "6b0fd947-036f-44a3-9f5e-be646b72e15b",
   "metadata": {},
   "outputs": [],
   "source": [
    "# Dividir en oraciones y palabras, contar su número\n",
    "df_parrafos = df_parrafos.withColumn(\"oraciones\", split(col(\"parrafo_limpio\"), \"\\\\.\"))\n",
    "df_parrafos = df_parrafos.withColumn(\"num_oraciones\", size(col(\"oraciones\")))\n",
    "df_parrafos = df_parrafos.withColumn(\"palabras\", split(col(\"parrafo_limpio\"), \" \"))\n",
    "df_parrafos = df_parrafos.withColumn(\"num_palabras\", size(col(\"palabras\")))"
   ]
  },
  {
   "cell_type": "code",
   "execution_count": 20,
   "id": "8728bd11-cc76-4d47-bad2-37e7dfd04606",
   "metadata": {},
   "outputs": [],
   "source": [
    "# Agregar longitud de caracteres\n",
    "df_parrafos = df_parrafos.withColumn(\"longitud_caracteres\", length(col(\"parrafo_limpio\")))"
   ]
  },
  {
   "cell_type": "code",
   "execution_count": 21,
   "id": "629a0ab1-6684-4721-a884-b8e978416874",
   "metadata": {},
   "outputs": [
    {
     "name": "stdout",
     "output_type": "stream",
     "text": [
      "+--------------------+--------------------+--------------------+-------------+--------------------+------------+-------------------+\n",
      "|             parrafo|      parrafo_limpio|           oraciones|num_oraciones|            palabras|num_palabras|longitud_caracteres|\n",
      "+--------------------+--------------------+--------------------+-------------+--------------------+------------+-------------------+\n",
      "|The Project Guten...|The Project Guten...|[The Project Gute...|            1|[The, Project, Gu...|          10|                 58|\n",
      "|This ebook is for...|This ebook is for...|[This ebook is fo...|            1|[This, ebook, is,...|          14|                 69|\n",
      "|most other parts ...|most other parts ...|[most other parts...|            1|[most, other, par...|          14|                 72|\n",
      "|whatsoever. You m...|whatsoever You ma...|[whatsoever You m...|            1|[whatsoever, You,...|          14|                 67|\n",
      "|of the Project Gu...|of the Project Gu...|[of the Project G...|            1|[of, the, Project...|          11|                 67|\n",
      "|at www.gutenberg....|at wwwgutenbergor...|[at wwwgutenbergo...|            1|[at, wwwgutenberg...|          11|                 62|\n",
      "|you will have to ...|you will have to ...|[you will have to...|            1|[you, will, have,...|          14|                 68|\n",
      "|before using this...|before using this...|[before using thi...|            1|[before, using, t...|           4|                 23|\n",
      "|Title: The Critiq...|Title The Critiqu...|[Title The Critiq...|            1|[Title, The, Crit...|           6|                 33|\n",
      "|Author: Immanuel ...|Author Immanuel Kant|[Author Immanuel ...|            1|[Author, Immanuel...|           3|                 20|\n",
      "|Translator: J. M....|Translator J M D ...|[Translator J M D...|            1|[Translator, J, M...|           5|                 27|\n",
      "|Release date: Jul...|Release date July...|[Release date Jul...|            1|[Release, date, J...|           5|                 24|\n",
      "|                M...| Most recently up...|[ Most recently u...|            1|[, Most, recently...|           6|                 28|\n",
      "|   Language: English|    Language English|  [Language English]|            1| [Language, English]|           2|                 16|\n",
      "|Credits: Charles ...|Credits Charles A...|[Credits Charles ...|            1|[Credits, Charles...|           6|                 42|\n",
      "|*** START OF THE ...| START OF THE PRO...|[ START OF THE PR...|            1|[, START, OF, THE...|          13|                 66|\n",
      "|      [Illustration]|        Illustration|      [Illustration]|            1|      [Illustration]|           1|                 12|\n",
      "|The Critique of P...|The Critique of P...|[The Critique of ...|            1|[The, Critique, o...|           5|                 27|\n",
      "|    By Immanuel Kant|    By Immanuel Kant|  [By Immanuel Kant]|            1|[By, Immanuel, Kant]|           3|                 16|\n",
      "|Translated by J. ...|Translated by J M...|[Translated by J ...|            1|[Translated, by, ...|           6|                 30|\n",
      "+--------------------+--------------------+--------------------+-------------+--------------------+------------+-------------------+\n",
      "only showing top 20 rows\n",
      "\n"
     ]
    }
   ],
   "source": [
    "# Mostrar los resultados finales\n",
    "df_parrafos.show()"
   ]
  },
  {
   "cell_type": "code",
   "execution_count": 22,
   "id": "cb74fda7-cdfe-4d2e-b064-b0d9cb8feab4",
   "metadata": {},
   "outputs": [],
   "source": [
    "# Contar las palabras más frecuentes en el texto\n",
    "df_palabras = df_parrafos.withColumn(\"palabra\", explode(split(lower(col(\"parrafo_limpio\")), \" \")))\n",
    "df_palabras = df_palabras.groupBy(\"palabra\").count().orderBy(\"count\", ascending=False)"
   ]
  },
  {
   "cell_type": "code",
   "execution_count": 23,
   "id": "3d1a0880-a969-47cb-ae93-586ba0d12590",
   "metadata": {},
   "outputs": [
    {
     "name": "stdout",
     "output_type": "stream",
     "text": [
      "+-------+-----+\n",
      "|palabra|count|\n",
      "+-------+-----+\n",
      "|    the|16131|\n",
      "|     of|13353|\n",
      "|     to| 6279|\n",
      "|     in| 5977|\n",
      "|     is| 4852|\n",
      "|    and| 4836|\n",
      "|      a| 4405|\n",
      "|  which| 3365|\n",
      "|   that| 3039|\n",
      "|     it| 2914|\n",
      "|     as| 2839|\n",
      "|     be| 2380|\n",
      "|   this| 2261|\n",
      "|    not| 1931|\n",
      "|     we| 1915|\n",
      "|    but| 1759|\n",
      "|    for| 1679|\n",
      "|    all| 1424|\n",
      "|     by| 1390|\n",
      "|     an| 1381|\n",
      "+-------+-----+\n",
      "only showing top 20 rows\n",
      "\n"
     ]
    }
   ],
   "source": [
    "# Mostrar las 20 palabras más comunes\n",
    "df_palabras.show(20)"
   ]
  }
 ],
 "metadata": {
  "kernelspec": {
   "display_name": "Python 3 (ipykernel)",
   "language": "python",
   "name": "python3"
  },
  "language_info": {
   "codemirror_mode": {
    "name": "ipython",
    "version": 3
   },
   "file_extension": ".py",
   "mimetype": "text/x-python",
   "name": "python",
   "nbconvert_exporter": "python",
   "pygments_lexer": "ipython3",
   "version": "3.11.6"
  }
 },
 "nbformat": 4,
 "nbformat_minor": 5
}
